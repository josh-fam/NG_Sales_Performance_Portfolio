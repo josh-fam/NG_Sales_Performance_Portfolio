{
 "cells": [
  {
   "cell_type": "code",
   "execution_count": 3,
   "id": "aa7bd71c-252a-43bc-a471-3f0dc1fbf1f1",
   "metadata": {},
   "outputs": [],
   "source": [
    "import pandas as pd\n",
    "import numpy as np\n",
    "import os"
   ]
  },
  {
   "cell_type": "code",
   "execution_count": 7,
   "id": "0fea7599-e6f7-4d1e-b7b2-cdf6b70d7143",
   "metadata": {},
   "outputs": [
    {
     "name": "stdout",
     "output_type": "stream",
     "text": [
      "(550, 9)\n"
     ]
    },
    {
     "data": {
      "text/html": [
       "<div>\n",
       "<style scoped>\n",
       "    .dataframe tbody tr th:only-of-type {\n",
       "        vertical-align: middle;\n",
       "    }\n",
       "\n",
       "    .dataframe tbody tr th {\n",
       "        vertical-align: top;\n",
       "    }\n",
       "\n",
       "    .dataframe thead th {\n",
       "        text-align: right;\n",
       "    }\n",
       "</style>\n",
       "<table border=\"1\" class=\"dataframe\">\n",
       "  <thead>\n",
       "    <tr style=\"text-align: right;\">\n",
       "      <th></th>\n",
       "      <th>Customer Name</th>\n",
       "      <th>State</th>\n",
       "      <th>Product</th>\n",
       "      <th>Units Sold</th>\n",
       "      <th>Unit Price</th>\n",
       "      <th>Total Sale</th>\n",
       "      <th>Sale Date</th>\n",
       "      <th>Sales Channel</th>\n",
       "      <th>Order ID</th>\n",
       "    </tr>\n",
       "  </thead>\n",
       "  <tbody>\n",
       "    <tr>\n",
       "      <th>0</th>\n",
       "      <td>NaN</td>\n",
       "      <td>rivers</td>\n",
       "      <td>KEYBOARD</td>\n",
       "      <td>NaN</td>\n",
       "      <td>NaN</td>\n",
       "      <td>NaN</td>\n",
       "      <td>2025-04-27</td>\n",
       "      <td>Online</td>\n",
       "      <td>NaN</td>\n",
       "    </tr>\n",
       "    <tr>\n",
       "      <th>1</th>\n",
       "      <td>Allison Hill</td>\n",
       "      <td>Lagos</td>\n",
       "      <td>Headphones</td>\n",
       "      <td>NaN</td>\n",
       "      <td>267992.94</td>\n",
       "      <td>NaN</td>\n",
       "      <td>2024-03-15</td>\n",
       "      <td>Wholesale</td>\n",
       "      <td>4c636e95-025f-4543-8997-623ae0723d96</td>\n",
       "    </tr>\n",
       "    <tr>\n",
       "      <th>2</th>\n",
       "      <td>Noah Rhodes</td>\n",
       "      <td>Anambra</td>\n",
       "      <td>Keyboard</td>\n",
       "      <td>NaN</td>\n",
       "      <td>42364.41</td>\n",
       "      <td>NaN</td>\n",
       "      <td>2024-12-10</td>\n",
       "      <td>NaN</td>\n",
       "      <td>edaf3766-1b78-4ede-9a4f-fc0c9165f2ed</td>\n",
       "    </tr>\n",
       "    <tr>\n",
       "      <th>3</th>\n",
       "      <td>Angie Henderson</td>\n",
       "      <td>Delta</td>\n",
       "      <td>Keyboard</td>\n",
       "      <td>NaN</td>\n",
       "      <td>279444.94</td>\n",
       "      <td>NaN</td>\n",
       "      <td>2024-04-05</td>\n",
       "      <td>NaN</td>\n",
       "      <td>74503887-48d9-4846-95c5-51fcfba57cc8</td>\n",
       "    </tr>\n",
       "    <tr>\n",
       "      <th>4</th>\n",
       "      <td>Daniel Wagner</td>\n",
       "      <td>Delta</td>\n",
       "      <td>Tablet</td>\n",
       "      <td>NaN</td>\n",
       "      <td>95899.74</td>\n",
       "      <td>NaN</td>\n",
       "      <td>2025-01-12</td>\n",
       "      <td>NaN</td>\n",
       "      <td>8639bd41-8b15-4d94-a42d-0cd7fd359f6a</td>\n",
       "    </tr>\n",
       "  </tbody>\n",
       "</table>\n",
       "</div>"
      ],
      "text/plain": [
       "     Customer Name    State     Product  Units Sold  Unit Price  Total Sale  \\\n",
       "0              NaN   rivers    KEYBOARD         NaN         NaN         NaN   \n",
       "1     Allison Hill    Lagos  Headphones         NaN   267992.94         NaN   \n",
       "2      Noah Rhodes  Anambra    Keyboard         NaN    42364.41         NaN   \n",
       "3  Angie Henderson    Delta    Keyboard         NaN   279444.94         NaN   \n",
       "4    Daniel Wagner    Delta      Tablet         NaN    95899.74         NaN   \n",
       "\n",
       "    Sale Date Sales Channel                              Order ID  \n",
       "0  2025-04-27        Online                                   NaN  \n",
       "1  2024-03-15     Wholesale  4c636e95-025f-4543-8997-623ae0723d96  \n",
       "2  2024-12-10           NaN  edaf3766-1b78-4ede-9a4f-fc0c9165f2ed  \n",
       "3  2024-04-05           NaN  74503887-48d9-4846-95c5-51fcfba57cc8  \n",
       "4  2025-01-12           NaN  8639bd41-8b15-4d94-a42d-0cd7fd359f6a  "
      ]
     },
     "execution_count": 7,
     "metadata": {},
     "output_type": "execute_result"
    }
   ],
   "source": [
    "df = pd.read_csv(\"ng_messy_sales.csv\")\n",
    "\n",
    "print(df.shape)\n",
    "df.head()"
   ]
  },
  {
   "cell_type": "code",
   "execution_count": 8,
   "id": "f06b4974-3b7b-4298-ac1f-aca9d8e50186",
   "metadata": {},
   "outputs": [
    {
     "name": "stdout",
     "output_type": "stream",
     "text": [
      "Units Sold    395\n",
      "Unit Price     55\n",
      "Total Sale    413\n",
      "dtype: int64\n"
     ]
    }
   ],
   "source": [
    "missing_counts = df[[\"Units Sold\", \"Unit Price\", \"Total Sale\"]].isna().sum()\n",
    "print(missing_counts)\n"
   ]
  },
  {
   "cell_type": "code",
   "execution_count": 9,
   "id": "745f56c1-975e-47e3-95ae-d62583f2b885",
   "metadata": {},
   "outputs": [
    {
     "name": "stdout",
     "output_type": "stream",
     "text": [
      "Duplicate Order IDs: 39\n"
     ]
    }
   ],
   "source": [
    "duplicate_count = df[\"Order ID\"].duplicated().sum()\n",
    "print(\"Duplicate Order IDs:\", duplicate_count)\n"
   ]
  },
  {
   "cell_type": "markdown",
   "id": "41131625-3b34-4ad5-8f76-bf7a948c572f",
   "metadata": {},
   "source": [
    "Dropping the rows where the Units Sold, Unit Price, and Total Sale are ALL missing"
   ]
  },
  {
   "cell_type": "code",
   "execution_count": 10,
   "id": "0eea37b4-1e5d-48c7-a4e3-ab092e8a1a11",
   "metadata": {},
   "outputs": [],
   "source": [
    "df = df.dropna(subset=[\"Units Sold\", \"Unit Price\", \"Total Sale\"], how=\"all\")\n",
    "\n"
   ]
  },
  {
   "cell_type": "markdown",
   "id": "5f60d6ce-1d6e-45e6-b2b4-97ce2f5d225c",
   "metadata": {},
   "source": [
    "Drop duplicates Order ID"
   ]
  },
  {
   "cell_type": "code",
   "execution_count": 11,
   "id": "71bb7b83-e828-49c8-9eb9-090b331b7fda",
   "metadata": {},
   "outputs": [],
   "source": [
    "df = df.drop_duplicates(subset=[\"Order ID\"])\n"
   ]
  },
  {
   "cell_type": "code",
   "execution_count": 12,
   "id": "efa1eef7-ab90-4a4d-ac9b-1f8d7aae6b40",
   "metadata": {},
   "outputs": [
    {
     "data": {
      "text/html": [
       "<div>\n",
       "<style scoped>\n",
       "    .dataframe tbody tr th:only-of-type {\n",
       "        vertical-align: middle;\n",
       "    }\n",
       "\n",
       "    .dataframe tbody tr th {\n",
       "        vertical-align: top;\n",
       "    }\n",
       "\n",
       "    .dataframe thead th {\n",
       "        text-align: right;\n",
       "    }\n",
       "</style>\n",
       "<table border=\"1\" class=\"dataframe\">\n",
       "  <thead>\n",
       "    <tr style=\"text-align: right;\">\n",
       "      <th></th>\n",
       "      <th>Customer Name</th>\n",
       "      <th>State</th>\n",
       "      <th>Product</th>\n",
       "      <th>Units Sold</th>\n",
       "      <th>Unit Price</th>\n",
       "      <th>Total Sale</th>\n",
       "      <th>Sale Date</th>\n",
       "      <th>Sales Channel</th>\n",
       "      <th>Order ID</th>\n",
       "    </tr>\n",
       "  </thead>\n",
       "  <tbody>\n",
       "    <tr>\n",
       "      <th>1</th>\n",
       "      <td>Allison Hill</td>\n",
       "      <td>Lagos</td>\n",
       "      <td>Headphones</td>\n",
       "      <td>NaN</td>\n",
       "      <td>267992.94</td>\n",
       "      <td>NaN</td>\n",
       "      <td>2024-03-15</td>\n",
       "      <td>Wholesale</td>\n",
       "      <td>4c636e95-025f-4543-8997-623ae0723d96</td>\n",
       "    </tr>\n",
       "    <tr>\n",
       "      <th>2</th>\n",
       "      <td>Noah Rhodes</td>\n",
       "      <td>Anambra</td>\n",
       "      <td>Keyboard</td>\n",
       "      <td>NaN</td>\n",
       "      <td>42364.41</td>\n",
       "      <td>NaN</td>\n",
       "      <td>2024-12-10</td>\n",
       "      <td>NaN</td>\n",
       "      <td>edaf3766-1b78-4ede-9a4f-fc0c9165f2ed</td>\n",
       "    </tr>\n",
       "    <tr>\n",
       "      <th>3</th>\n",
       "      <td>Angie Henderson</td>\n",
       "      <td>Delta</td>\n",
       "      <td>Keyboard</td>\n",
       "      <td>NaN</td>\n",
       "      <td>279444.94</td>\n",
       "      <td>NaN</td>\n",
       "      <td>2024-04-05</td>\n",
       "      <td>NaN</td>\n",
       "      <td>74503887-48d9-4846-95c5-51fcfba57cc8</td>\n",
       "    </tr>\n",
       "    <tr>\n",
       "      <th>4</th>\n",
       "      <td>Daniel Wagner</td>\n",
       "      <td>Delta</td>\n",
       "      <td>Tablet</td>\n",
       "      <td>NaN</td>\n",
       "      <td>95899.74</td>\n",
       "      <td>NaN</td>\n",
       "      <td>2025-01-12</td>\n",
       "      <td>NaN</td>\n",
       "      <td>8639bd41-8b15-4d94-a42d-0cd7fd359f6a</td>\n",
       "    </tr>\n",
       "    <tr>\n",
       "      <th>5</th>\n",
       "      <td>Cristian Santos</td>\n",
       "      <td>Oyo</td>\n",
       "      <td>Camera</td>\n",
       "      <td>NaN</td>\n",
       "      <td>118189.90</td>\n",
       "      <td>NaN</td>\n",
       "      <td>2023-08-30</td>\n",
       "      <td>Direct</td>\n",
       "      <td>225aed6c-f045-4043-a3a6-8a707e710b55</td>\n",
       "    </tr>\n",
       "  </tbody>\n",
       "</table>\n",
       "</div>"
      ],
      "text/plain": [
       "     Customer Name    State     Product  Units Sold  Unit Price  Total Sale  \\\n",
       "1     Allison Hill    Lagos  Headphones         NaN   267992.94         NaN   \n",
       "2      Noah Rhodes  Anambra    Keyboard         NaN    42364.41         NaN   \n",
       "3  Angie Henderson    Delta    Keyboard         NaN   279444.94         NaN   \n",
       "4    Daniel Wagner    Delta      Tablet         NaN    95899.74         NaN   \n",
       "5  Cristian Santos      Oyo      Camera         NaN   118189.90         NaN   \n",
       "\n",
       "    Sale Date Sales Channel                              Order ID  \n",
       "1  2024-03-15     Wholesale  4c636e95-025f-4543-8997-623ae0723d96  \n",
       "2  2024-12-10           NaN  edaf3766-1b78-4ede-9a4f-fc0c9165f2ed  \n",
       "3  2024-04-05           NaN  74503887-48d9-4846-95c5-51fcfba57cc8  \n",
       "4  2025-01-12           NaN  8639bd41-8b15-4d94-a42d-0cd7fd359f6a  \n",
       "5  2023-08-30        Direct  225aed6c-f045-4043-a3a6-8a707e710b55  "
      ]
     },
     "execution_count": 12,
     "metadata": {},
     "output_type": "execute_result"
    }
   ],
   "source": [
    "df.head()"
   ]
  },
  {
   "cell_type": "code",
   "execution_count": 13,
   "id": "956e74ff-2554-499a-a91c-a4da70eb48cb",
   "metadata": {},
   "outputs": [
    {
     "data": {
      "text/html": [
       "<div>\n",
       "<style scoped>\n",
       "    .dataframe tbody tr th:only-of-type {\n",
       "        vertical-align: middle;\n",
       "    }\n",
       "\n",
       "    .dataframe tbody tr th {\n",
       "        vertical-align: top;\n",
       "    }\n",
       "\n",
       "    .dataframe thead th {\n",
       "        text-align: right;\n",
       "    }\n",
       "</style>\n",
       "<table border=\"1\" class=\"dataframe\">\n",
       "  <thead>\n",
       "    <tr style=\"text-align: right;\">\n",
       "      <th></th>\n",
       "      <th>Customer Name</th>\n",
       "      <th>State</th>\n",
       "      <th>Product</th>\n",
       "      <th>Units Sold</th>\n",
       "      <th>Unit Price</th>\n",
       "      <th>Total Sale</th>\n",
       "      <th>Sale Date</th>\n",
       "      <th>Sales Channel</th>\n",
       "      <th>Order ID</th>\n",
       "    </tr>\n",
       "  </thead>\n",
       "  <tbody>\n",
       "    <tr>\n",
       "      <th>544</th>\n",
       "      <td>Mr. Justin Green III</td>\n",
       "      <td>Sokoto</td>\n",
       "      <td>KEYBOARD</td>\n",
       "      <td>65.0</td>\n",
       "      <td>206948.51</td>\n",
       "      <td>13451653.15</td>\n",
       "      <td>2023-12-02</td>\n",
       "      <td>Online</td>\n",
       "      <td>ec93e596-2b01-4723-8cf6-97a57603c36c</td>\n",
       "    </tr>\n",
       "    <tr>\n",
       "      <th>545</th>\n",
       "      <td>Zachary Mitchell</td>\n",
       "      <td>Ekiti</td>\n",
       "      <td>Monitor</td>\n",
       "      <td>6.0</td>\n",
       "      <td>23989.09</td>\n",
       "      <td>143934.54</td>\n",
       "      <td>2025-07-07</td>\n",
       "      <td>Wholesale</td>\n",
       "      <td>b9744cde-d259-4960-aee3-560792ea1324</td>\n",
       "    </tr>\n",
       "    <tr>\n",
       "      <th>547</th>\n",
       "      <td>Katherine Martinez</td>\n",
       "      <td>Bauchi</td>\n",
       "      <td>Phone</td>\n",
       "      <td>NaN</td>\n",
       "      <td>104084.92</td>\n",
       "      <td>NaN</td>\n",
       "      <td>2025-05-18</td>\n",
       "      <td>Retail</td>\n",
       "      <td>61fa8e7a-078c-46ce-bf02-23bc651ea252</td>\n",
       "    </tr>\n",
       "    <tr>\n",
       "      <th>548</th>\n",
       "      <td>Jodi Roach</td>\n",
       "      <td>Niger</td>\n",
       "      <td>Charger</td>\n",
       "      <td>NaN</td>\n",
       "      <td>29756.89</td>\n",
       "      <td>NaN</td>\n",
       "      <td>2025-06-29</td>\n",
       "      <td>Direct</td>\n",
       "      <td>5a9c0679-2c3d-47e2-ad39-da75aee70ab2</td>\n",
       "    </tr>\n",
       "    <tr>\n",
       "      <th>549</th>\n",
       "      <td>Brandon Fleming</td>\n",
       "      <td>imo</td>\n",
       "      <td>Camera</td>\n",
       "      <td>NaN</td>\n",
       "      <td>70027.13</td>\n",
       "      <td>NaN</td>\n",
       "      <td>2024-02-20</td>\n",
       "      <td>NaN</td>\n",
       "      <td>46653497-2fe9-42aa-a886-a01136f7a26c</td>\n",
       "    </tr>\n",
       "  </tbody>\n",
       "</table>\n",
       "</div>"
      ],
      "text/plain": [
       "            Customer Name   State   Product  Units Sold  Unit Price  \\\n",
       "544  Mr. Justin Green III  Sokoto  KEYBOARD        65.0   206948.51   \n",
       "545      Zachary Mitchell   Ekiti   Monitor         6.0    23989.09   \n",
       "547    Katherine Martinez  Bauchi     Phone         NaN   104084.92   \n",
       "548            Jodi Roach   Niger   Charger         NaN    29756.89   \n",
       "549       Brandon Fleming     imo    Camera         NaN    70027.13   \n",
       "\n",
       "      Total Sale   Sale Date Sales Channel  \\\n",
       "544  13451653.15  2023-12-02        Online   \n",
       "545    143934.54  2025-07-07     Wholesale   \n",
       "547          NaN  2025-05-18        Retail   \n",
       "548          NaN  2025-06-29        Direct   \n",
       "549          NaN  2024-02-20           NaN   \n",
       "\n",
       "                                 Order ID  \n",
       "544  ec93e596-2b01-4723-8cf6-97a57603c36c  \n",
       "545  b9744cde-d259-4960-aee3-560792ea1324  \n",
       "547  61fa8e7a-078c-46ce-bf02-23bc651ea252  \n",
       "548  5a9c0679-2c3d-47e2-ad39-da75aee70ab2  \n",
       "549  46653497-2fe9-42aa-a886-a01136f7a26c  "
      ]
     },
     "execution_count": 13,
     "metadata": {},
     "output_type": "execute_result"
    }
   ],
   "source": [
    "df.tail()"
   ]
  },
  {
   "cell_type": "markdown",
   "id": "9a14c055-0e0e-4fb9-b71d-e53f145ade97",
   "metadata": {},
   "source": [
    "I noticed product name and state both have standardized lower & uppercses"
   ]
  },
  {
   "cell_type": "code",
   "execution_count": 14,
   "id": "d7df0610-12e3-44c6-9c0f-49e4e5eedda9",
   "metadata": {},
   "outputs": [],
   "source": [
    "df[\"Product\"] = df[\"Product\"].str.strip().str.title()\n",
    "\n",
    "df[\"State\"] = df[\"State\"].str.strip().str.title()\n"
   ]
  },
  {
   "cell_type": "code",
   "execution_count": 15,
   "id": "b7f61e98-3cd3-4ab4-84e0-6695510e398f",
   "metadata": {},
   "outputs": [
    {
     "name": "stdout",
     "output_type": "stream",
     "text": [
      "<class 'pandas.core.frame.DataFrame'>\n",
      "Index: 480 entries, 1 to 549\n",
      "Data columns (total 9 columns):\n",
      " #   Column         Non-Null Count  Dtype  \n",
      "---  ------         --------------  -----  \n",
      " 0   Customer Name  444 non-null    object \n",
      " 1   State          480 non-null    object \n",
      " 2   Product        480 non-null    object \n",
      " 3   Units Sold     146 non-null    float64\n",
      " 4   Unit Price     464 non-null    float64\n",
      " 5   Total Sale     130 non-null    float64\n",
      " 6   Sale Date      480 non-null    object \n",
      " 7   Sales Channel  386 non-null    object \n",
      " 8   Order ID       479 non-null    object \n",
      "dtypes: float64(3), object(6)\n",
      "memory usage: 37.5+ KB\n"
     ]
    },
    {
     "data": {
      "text/html": [
       "<div>\n",
       "<style scoped>\n",
       "    .dataframe tbody tr th:only-of-type {\n",
       "        vertical-align: middle;\n",
       "    }\n",
       "\n",
       "    .dataframe tbody tr th {\n",
       "        vertical-align: top;\n",
       "    }\n",
       "\n",
       "    .dataframe thead th {\n",
       "        text-align: right;\n",
       "    }\n",
       "</style>\n",
       "<table border=\"1\" class=\"dataframe\">\n",
       "  <thead>\n",
       "    <tr style=\"text-align: right;\">\n",
       "      <th></th>\n",
       "      <th>Units Sold</th>\n",
       "      <th>Unit Price</th>\n",
       "      <th>Total Sale</th>\n",
       "    </tr>\n",
       "  </thead>\n",
       "  <tbody>\n",
       "    <tr>\n",
       "      <th>count</th>\n",
       "      <td>146.000000</td>\n",
       "      <td>464.000000</td>\n",
       "      <td>1.300000e+02</td>\n",
       "    </tr>\n",
       "    <tr>\n",
       "      <th>mean</th>\n",
       "      <td>47.349315</td>\n",
       "      <td>155148.837069</td>\n",
       "      <td>6.976575e+06</td>\n",
       "    </tr>\n",
       "    <tr>\n",
       "      <th>std</th>\n",
       "      <td>26.639766</td>\n",
       "      <td>84955.415949</td>\n",
       "      <td>6.234590e+06</td>\n",
       "    </tr>\n",
       "    <tr>\n",
       "      <th>min</th>\n",
       "      <td>1.000000</td>\n",
       "      <td>1403.130000</td>\n",
       "      <td>5.788704e+04</td>\n",
       "    </tr>\n",
       "    <tr>\n",
       "      <th>25%</th>\n",
       "      <td>26.000000</td>\n",
       "      <td>83773.965000</td>\n",
       "      <td>1.841694e+06</td>\n",
       "    </tr>\n",
       "    <tr>\n",
       "      <th>50%</th>\n",
       "      <td>48.000000</td>\n",
       "      <td>157565.060000</td>\n",
       "      <td>4.947761e+06</td>\n",
       "    </tr>\n",
       "    <tr>\n",
       "      <th>75%</th>\n",
       "      <td>67.750000</td>\n",
       "      <td>226426.175000</td>\n",
       "      <td>1.105162e+07</td>\n",
       "    </tr>\n",
       "    <tr>\n",
       "      <th>max</th>\n",
       "      <td>98.000000</td>\n",
       "      <td>298048.290000</td>\n",
       "      <td>2.873459e+07</td>\n",
       "    </tr>\n",
       "  </tbody>\n",
       "</table>\n",
       "</div>"
      ],
      "text/plain": [
       "       Units Sold     Unit Price    Total Sale\n",
       "count  146.000000     464.000000  1.300000e+02\n",
       "mean    47.349315  155148.837069  6.976575e+06\n",
       "std     26.639766   84955.415949  6.234590e+06\n",
       "min      1.000000    1403.130000  5.788704e+04\n",
       "25%     26.000000   83773.965000  1.841694e+06\n",
       "50%     48.000000  157565.060000  4.947761e+06\n",
       "75%     67.750000  226426.175000  1.105162e+07\n",
       "max     98.000000  298048.290000  2.873459e+07"
      ]
     },
     "execution_count": 15,
     "metadata": {},
     "output_type": "execute_result"
    }
   ],
   "source": [
    "df.head()\n",
    "df.info()\n",
    "df.describe()\n"
   ]
  },
  {
   "cell_type": "markdown",
   "id": "261260fc-0e56-4715-b85d-3f70361df13d",
   "metadata": {},
   "source": [
    "The sale date is still a string, i'll need to convert it to a date time "
   ]
  },
  {
   "cell_type": "code",
   "execution_count": 16,
   "id": "5d114e0d-cb0f-4739-9112-0ceac8e129fc",
   "metadata": {},
   "outputs": [],
   "source": [
    "df[\"Sale Date\"] = pd.to_datetime(df[\"Sale Date\"], errors=\"coerce\")\n"
   ]
  },
  {
   "cell_type": "markdown",
   "id": "d9ffb277-be49-4947-92ef-32e1f8808c02",
   "metadata": {},
   "source": [
    "Due to the missing values and inconsistencies in the data for Units Sold,Unit Price and Total Sale\n",
    "I'll have to validate and clean the data"
   ]
  },
  {
   "cell_type": "code",
   "execution_count": 17,
   "id": "af8a7efb-455f-48fa-b934-ca119084b09f",
   "metadata": {},
   "outputs": [],
   "source": [
    "df[\"Calculated Sale\"] = df[\"Units Sold\"] * df[\"Unit Price\"]\n",
    "df[\"Diff\"] = df[\"Total Sale\"] - df[\"Calculated Sale\"]\n"
   ]
  },
  {
   "cell_type": "code",
   "execution_count": 18,
   "id": "0190d34f-c16b-4013-a91c-3042c53118ce",
   "metadata": {},
   "outputs": [
    {
     "name": "stdout",
     "output_type": "stream",
     "text": [
      "Rows with mismatched totals: 0\n"
     ]
    }
   ],
   "source": [
    "\n",
    "print(\"Rows with mismatched totals:\", (df[\"Diff\"].abs() > 1).sum())"
   ]
  },
  {
   "cell_type": "code",
   "execution_count": 19,
   "id": "cd0bd403-4a91-448d-86b2-4d971d31fa1c",
   "metadata": {},
   "outputs": [
    {
     "data": {
      "text/html": [
       "<div>\n",
       "<style scoped>\n",
       "    .dataframe tbody tr th:only-of-type {\n",
       "        vertical-align: middle;\n",
       "    }\n",
       "\n",
       "    .dataframe tbody tr th {\n",
       "        vertical-align: top;\n",
       "    }\n",
       "\n",
       "    .dataframe thead th {\n",
       "        text-align: right;\n",
       "    }\n",
       "</style>\n",
       "<table border=\"1\" class=\"dataframe\">\n",
       "  <thead>\n",
       "    <tr style=\"text-align: right;\">\n",
       "      <th></th>\n",
       "      <th>Customer Name</th>\n",
       "      <th>State</th>\n",
       "      <th>Product</th>\n",
       "      <th>Units Sold</th>\n",
       "      <th>Unit Price</th>\n",
       "      <th>Total Sale</th>\n",
       "      <th>Sale Date</th>\n",
       "      <th>Sales Channel</th>\n",
       "      <th>Order ID</th>\n",
       "      <th>Calculated Sale</th>\n",
       "      <th>Diff</th>\n",
       "    </tr>\n",
       "  </thead>\n",
       "  <tbody>\n",
       "    <tr>\n",
       "      <th>1</th>\n",
       "      <td>Allison Hill</td>\n",
       "      <td>Lagos</td>\n",
       "      <td>Headphones</td>\n",
       "      <td>NaN</td>\n",
       "      <td>267992.94</td>\n",
       "      <td>NaN</td>\n",
       "      <td>2024-03-15</td>\n",
       "      <td>Wholesale</td>\n",
       "      <td>4c636e95-025f-4543-8997-623ae0723d96</td>\n",
       "      <td>NaN</td>\n",
       "      <td>NaN</td>\n",
       "    </tr>\n",
       "    <tr>\n",
       "      <th>2</th>\n",
       "      <td>Noah Rhodes</td>\n",
       "      <td>Anambra</td>\n",
       "      <td>Keyboard</td>\n",
       "      <td>NaN</td>\n",
       "      <td>42364.41</td>\n",
       "      <td>NaN</td>\n",
       "      <td>2024-12-10</td>\n",
       "      <td>NaN</td>\n",
       "      <td>edaf3766-1b78-4ede-9a4f-fc0c9165f2ed</td>\n",
       "      <td>NaN</td>\n",
       "      <td>NaN</td>\n",
       "    </tr>\n",
       "    <tr>\n",
       "      <th>3</th>\n",
       "      <td>Angie Henderson</td>\n",
       "      <td>Delta</td>\n",
       "      <td>Keyboard</td>\n",
       "      <td>NaN</td>\n",
       "      <td>279444.94</td>\n",
       "      <td>NaN</td>\n",
       "      <td>2024-04-05</td>\n",
       "      <td>NaN</td>\n",
       "      <td>74503887-48d9-4846-95c5-51fcfba57cc8</td>\n",
       "      <td>NaN</td>\n",
       "      <td>NaN</td>\n",
       "    </tr>\n",
       "    <tr>\n",
       "      <th>4</th>\n",
       "      <td>Daniel Wagner</td>\n",
       "      <td>Delta</td>\n",
       "      <td>Tablet</td>\n",
       "      <td>NaN</td>\n",
       "      <td>95899.74</td>\n",
       "      <td>NaN</td>\n",
       "      <td>2025-01-12</td>\n",
       "      <td>NaN</td>\n",
       "      <td>8639bd41-8b15-4d94-a42d-0cd7fd359f6a</td>\n",
       "      <td>NaN</td>\n",
       "      <td>NaN</td>\n",
       "    </tr>\n",
       "    <tr>\n",
       "      <th>5</th>\n",
       "      <td>Cristian Santos</td>\n",
       "      <td>Oyo</td>\n",
       "      <td>Camera</td>\n",
       "      <td>NaN</td>\n",
       "      <td>118189.90</td>\n",
       "      <td>NaN</td>\n",
       "      <td>2023-08-30</td>\n",
       "      <td>Direct</td>\n",
       "      <td>225aed6c-f045-4043-a3a6-8a707e710b55</td>\n",
       "      <td>NaN</td>\n",
       "      <td>NaN</td>\n",
       "    </tr>\n",
       "    <tr>\n",
       "      <th>6</th>\n",
       "      <td>Connie Lawrence</td>\n",
       "      <td>Rivers</td>\n",
       "      <td>Tablet</td>\n",
       "      <td>36.0</td>\n",
       "      <td>185141.90</td>\n",
       "      <td>6665108.40</td>\n",
       "      <td>2024-09-10</td>\n",
       "      <td>Wholesale</td>\n",
       "      <td>45d8a6ad-77d0-459e-8114-14f8d9df0d0e</td>\n",
       "      <td>6665108.40</td>\n",
       "      <td>9.313226e-10</td>\n",
       "    </tr>\n",
       "    <tr>\n",
       "      <th>7</th>\n",
       "      <td>Abigail Shaffer</td>\n",
       "      <td>Imo</td>\n",
       "      <td>Keyboard</td>\n",
       "      <td>NaN</td>\n",
       "      <td>252859.28</td>\n",
       "      <td>NaN</td>\n",
       "      <td>2024-09-04</td>\n",
       "      <td>Online</td>\n",
       "      <td>54a7b69b-1cd6-4b09-8f0e-6d2b315c167a</td>\n",
       "      <td>NaN</td>\n",
       "      <td>NaN</td>\n",
       "    </tr>\n",
       "    <tr>\n",
       "      <th>8</th>\n",
       "      <td>Gina Moore</td>\n",
       "      <td>Kano</td>\n",
       "      <td>Camera</td>\n",
       "      <td>NaN</td>\n",
       "      <td>178320.53</td>\n",
       "      <td>NaN</td>\n",
       "      <td>2024-02-21</td>\n",
       "      <td>Wholesale</td>\n",
       "      <td>a5f60735-757b-4b29-bb2a-a1462999394c</td>\n",
       "      <td>NaN</td>\n",
       "      <td>NaN</td>\n",
       "    </tr>\n",
       "    <tr>\n",
       "      <th>9</th>\n",
       "      <td>Gabrielle Davis</td>\n",
       "      <td>Plateau</td>\n",
       "      <td>Tablet</td>\n",
       "      <td>NaN</td>\n",
       "      <td>152440.84</td>\n",
       "      <td>NaN</td>\n",
       "      <td>2025-06-02</td>\n",
       "      <td>Direct</td>\n",
       "      <td>039b058c-2faa-4e0b-b7f6-0cdf41dc1c60</td>\n",
       "      <td>NaN</td>\n",
       "      <td>NaN</td>\n",
       "    </tr>\n",
       "    <tr>\n",
       "      <th>11</th>\n",
       "      <td>Monica Herrera</td>\n",
       "      <td>Abuja</td>\n",
       "      <td>Laptop</td>\n",
       "      <td>3.0</td>\n",
       "      <td>153159.37</td>\n",
       "      <td>459478.11</td>\n",
       "      <td>2025-05-02</td>\n",
       "      <td>Retail</td>\n",
       "      <td>317304b5-c1dd-484a-aca5-8d95915a1c30</td>\n",
       "      <td>459478.11</td>\n",
       "      <td>0.000000e+00</td>\n",
       "    </tr>\n",
       "  </tbody>\n",
       "</table>\n",
       "</div>"
      ],
      "text/plain": [
       "      Customer Name    State     Product  Units Sold  Unit Price  Total Sale  \\\n",
       "1      Allison Hill    Lagos  Headphones         NaN   267992.94         NaN   \n",
       "2       Noah Rhodes  Anambra    Keyboard         NaN    42364.41         NaN   \n",
       "3   Angie Henderson    Delta    Keyboard         NaN   279444.94         NaN   \n",
       "4     Daniel Wagner    Delta      Tablet         NaN    95899.74         NaN   \n",
       "5   Cristian Santos      Oyo      Camera         NaN   118189.90         NaN   \n",
       "6   Connie Lawrence   Rivers      Tablet        36.0   185141.90  6665108.40   \n",
       "7   Abigail Shaffer      Imo    Keyboard         NaN   252859.28         NaN   \n",
       "8        Gina Moore     Kano      Camera         NaN   178320.53         NaN   \n",
       "9   Gabrielle Davis  Plateau      Tablet         NaN   152440.84         NaN   \n",
       "11   Monica Herrera    Abuja      Laptop         3.0   153159.37   459478.11   \n",
       "\n",
       "    Sale Date Sales Channel                              Order ID  \\\n",
       "1  2024-03-15     Wholesale  4c636e95-025f-4543-8997-623ae0723d96   \n",
       "2  2024-12-10           NaN  edaf3766-1b78-4ede-9a4f-fc0c9165f2ed   \n",
       "3  2024-04-05           NaN  74503887-48d9-4846-95c5-51fcfba57cc8   \n",
       "4  2025-01-12           NaN  8639bd41-8b15-4d94-a42d-0cd7fd359f6a   \n",
       "5  2023-08-30        Direct  225aed6c-f045-4043-a3a6-8a707e710b55   \n",
       "6  2024-09-10     Wholesale  45d8a6ad-77d0-459e-8114-14f8d9df0d0e   \n",
       "7  2024-09-04        Online  54a7b69b-1cd6-4b09-8f0e-6d2b315c167a   \n",
       "8  2024-02-21     Wholesale  a5f60735-757b-4b29-bb2a-a1462999394c   \n",
       "9  2025-06-02        Direct  039b058c-2faa-4e0b-b7f6-0cdf41dc1c60   \n",
       "11 2025-05-02        Retail  317304b5-c1dd-484a-aca5-8d95915a1c30   \n",
       "\n",
       "    Calculated Sale          Diff  \n",
       "1               NaN           NaN  \n",
       "2               NaN           NaN  \n",
       "3               NaN           NaN  \n",
       "4               NaN           NaN  \n",
       "5               NaN           NaN  \n",
       "6        6665108.40  9.313226e-10  \n",
       "7               NaN           NaN  \n",
       "8               NaN           NaN  \n",
       "9               NaN           NaN  \n",
       "11        459478.11  0.000000e+00  "
      ]
     },
     "execution_count": 19,
     "metadata": {},
     "output_type": "execute_result"
    }
   ],
   "source": [
    "df.head(10)"
   ]
  },
  {
   "cell_type": "code",
   "execution_count": null,
   "id": "07b927eb-30e7-4f0f-acd1-10a8b52b64c4",
   "metadata": {},
   "outputs": [],
   "source": []
  },
  {
   "cell_type": "code",
   "execution_count": 20,
   "id": "f8e9953f-167e-46a4-a32a-724d735d07b8",
   "metadata": {},
   "outputs": [],
   "source": [
    "df[\"Year\"] = df[\"Sale Date\"].dt.year\n",
    "df[\"Month\"] = df[\"Sale Date\"].dt.month\n",
    "df[\"Quarter\"] = df[\"Sale Date\"].dt.to_period(\"Q\")\n"
   ]
  },
  {
   "cell_type": "code",
   "execution_count": 31,
   "id": "8357fc04-68f3-431d-b908-d5957be74506",
   "metadata": {},
   "outputs": [
    {
     "name": "stdout",
     "output_type": "stream",
     "text": [
      "   Sale Date  Year  Month Quarter\n",
      "1 2024-03-15  2024      3  2024Q1\n",
      "2 2024-12-10  2024     12  2024Q4\n",
      "3 2024-04-05  2024      4  2024Q2\n",
      "4 2025-01-12  2025      1  2025Q1\n",
      "5 2023-08-30  2023      8  2023Q3\n"
     ]
    }
   ],
   "source": [
    "print(df[[\"Sale Date\", \"Year\", \"Month\", \"Quarter\"]].head())\n"
   ]
  },
  {
   "cell_type": "code",
   "execution_count": 21,
   "id": "789a9450-be05-4bf9-a45b-cf2a26ea81c9",
   "metadata": {},
   "outputs": [],
   "source": [
    "df[\"Revenue Per Unit\"] = df[\"Unit Price\"]"
   ]
  },
  {
   "cell_type": "code",
   "execution_count": 32,
   "id": "b3ee4905-34e6-4464-aae3-fb94a97f748c",
   "metadata": {},
   "outputs": [
    {
     "name": "stdout",
     "output_type": "stream",
     "text": [
      "      Product  Unit Price  Revenue Per Unit\n",
      "1  Headphones   267992.94         267992.94\n",
      "2    Keyboard    42364.41          42364.41\n",
      "3    Keyboard   279444.94         279444.94\n",
      "4      Tablet    95899.74          95899.74\n",
      "5      Camera   118189.90         118189.90\n"
     ]
    }
   ],
   "source": [
    "print(df[[\"Product\", \"Unit Price\", \"Revenue Per Unit\"]].head())\n"
   ]
  },
  {
   "cell_type": "code",
   "execution_count": 22,
   "id": "be926844-5068-4b58-8995-a273c146ee42",
   "metadata": {},
   "outputs": [],
   "source": [
    "customer_freq = df[\"Customer Name\"].value_counts()"
   ]
  },
  {
   "cell_type": "code",
   "execution_count": 34,
   "id": "9394ddc2-d768-4e87-9b0d-8bcc6a50a0e6",
   "metadata": {},
   "outputs": [
    {
     "name": "stdout",
     "output_type": "stream",
     "text": [
      "Customer Name\n",
      "Matthew Moore       2\n",
      "Allison Hill        1\n",
      "Victor Brown        1\n",
      "Theresa Williams    1\n",
      "Kayla Rodriguez     1\n",
      "Name: count, dtype: int64\n"
     ]
    }
   ],
   "source": [
    "print(customer_freq.head(5))"
   ]
  },
  {
   "cell_type": "code",
   "execution_count": 23,
   "id": "0139e5db-3a4d-44b1-8973-e6327521aecf",
   "metadata": {},
   "outputs": [],
   "source": [
    "product_revenue = df.groupby(\"Product\")[\"Total Sale\"].sum().sort_values(ascending=False)\n",
    "product_units = df.groupby(\"Product\")[\"Units Sold\"].sum().sort_values(ascending=False)\n"
   ]
  },
  {
   "cell_type": "code",
   "execution_count": 27,
   "id": "a1574d68-db65-4b31-8b0a-f4845cd025b9",
   "metadata": {},
   "outputs": [
    {
     "name": "stdout",
     "output_type": "stream",
     "text": [
      "Product\n",
      "Keyboard      1.783906e+08\n",
      "Phone         1.676139e+08\n",
      "Headphones    1.426256e+08\n",
      "Tablet        1.405429e+08\n",
      "Monitor       1.144702e+08\n",
      "Charger       1.030686e+08\n",
      "Laptop        3.514419e+07\n",
      "Camera        2.509875e+07\n",
      "Name: Total Sale, dtype: float64\n",
      "Product\n",
      "Keyboard      1330.0\n",
      "Headphones    1053.0\n",
      "Tablet        1052.0\n",
      "Phone          965.0\n",
      "Monitor        846.0\n",
      "Charger        693.0\n",
      "Camera         531.0\n",
      "Laptop         443.0\n",
      "Name: Units Sold, dtype: float64\n"
     ]
    }
   ],
   "source": [
    "print(product_revenue)\n",
    "print(product_units)"
   ]
  },
  {
   "cell_type": "code",
   "execution_count": 24,
   "id": "ecc0a1b9-b50a-47c6-ad5b-059fab504dbb",
   "metadata": {},
   "outputs": [],
   "source": [
    "state_revenue = df.groupby(\"State\")[\"Total Sale\"].sum().sort_values(ascending=False)\n"
   ]
  },
  {
   "cell_type": "code",
   "execution_count": 28,
   "id": "4ecbc956-b70d-4b07-bbfc-d9b090e6dbc3",
   "metadata": {},
   "outputs": [
    {
     "name": "stdout",
     "output_type": "stream",
     "text": [
      "State\n",
      "Benue          83651542.02\n",
      "Rivers         80846826.76\n",
      "Delta          70752955.06\n",
      "Kano           66430447.61\n",
      "Imo            63466338.88\n",
      "Plateau        61414056.17\n",
      "Kaduna         58834730.64\n",
      "Niger          54765574.51\n",
      "Sokoto         44669534.61\n",
      "Lagos          44548407.02\n",
      "Katsina        36094558.16\n",
      "Enugu          34518737.93\n",
      "Bauchi         33982869.24\n",
      "Cross River    33914235.67\n",
      "Abuja          33383113.98\n",
      "Oyo            28967495.85\n",
      "Osun           26309925.52\n",
      "Borno          23286853.24\n",
      "Ekiti          16016820.99\n",
      "Anambra        11099688.88\n",
      "Name: Total Sale, dtype: float64\n"
     ]
    }
   ],
   "source": [
    "print(state_revenue)"
   ]
  },
  {
   "cell_type": "code",
   "execution_count": 25,
   "id": "7dc0c6a9-8b9e-433e-849d-5d55b2be61ae",
   "metadata": {},
   "outputs": [],
   "source": [
    "channel_revenue = df.groupby(\"Sales Channel\")[\"Total Sale\"].sum().sort_values(ascending=False)\n",
    "channel_units = df.groupby(\"Sales Channel\")[\"Units Sold\"].sum().sort_values(ascending=False)\n"
   ]
  },
  {
   "cell_type": "code",
   "execution_count": 29,
   "id": "11cdd03d-7f64-4e49-82fb-aee86a9a2131",
   "metadata": {},
   "outputs": [
    {
     "name": "stdout",
     "output_type": "stream",
     "text": [
      "Sales Channel\n",
      "Online       2.294837e+08\n",
      "Retail       1.956314e+08\n",
      "Wholesale    1.654142e+08\n",
      "Direct       1.523044e+08\n",
      "Name: Total Sale, dtype: float64\n",
      "Sales Channel\n",
      "Online       1669.0\n",
      "Retail       1407.0\n",
      "Wholesale    1366.0\n",
      "Direct       1148.0\n",
      "Name: Units Sold, dtype: float64\n"
     ]
    }
   ],
   "source": [
    "print(channel_revenue)\n",
    "print(channel_units)\n"
   ]
  },
  {
   "cell_type": "code",
   "execution_count": 26,
   "id": "97ea4a91-0a18-465a-b840-cd153111ada1",
   "metadata": {},
   "outputs": [],
   "source": [
    "monthly_sales = df.groupby(df[\"Sale Date\"].dt.to_period(\"M\"))[\"Total Sale\"].sum()"
   ]
  },
  {
   "cell_type": "code",
   "execution_count": 30,
   "id": "35326c25-6dbb-44da-a269-5d9854f98a9c",
   "metadata": {},
   "outputs": [
    {
     "name": "stdout",
     "output_type": "stream",
     "text": [
      "Sale Date\n",
      "2023-07    17958791.92\n",
      "2023-08    33113463.09\n",
      "2023-09     6847245.49\n",
      "2023-10    30724980.41\n",
      "2023-11    38192829.56\n",
      "2023-12    32504101.32\n",
      "2024-01    33928727.92\n",
      "2024-02    30259644.19\n",
      "2024-03    80194387.81\n",
      "2024-04    38331241.04\n",
      "2024-05    37786995.73\n",
      "2024-06     6292829.97\n",
      "2024-07    85177032.40\n",
      "2024-08    29512743.12\n",
      "2024-09    72465359.50\n",
      "2024-10     4024755.52\n",
      "2024-11    15539825.64\n",
      "2024-12    28489123.08\n",
      "2025-01    42967401.97\n",
      "2025-02    54262100.62\n",
      "2025-03    51367343.92\n",
      "2025-04    48131538.22\n",
      "2025-05    25876060.48\n",
      "2025-06    21359175.61\n",
      "2025-07    41647014.21\n",
      "Freq: M, Name: Total Sale, dtype: float64\n"
     ]
    }
   ],
   "source": [
    "print(monthly_sales)"
   ]
  },
  {
   "cell_type": "code",
   "execution_count": 35,
   "id": "e23bc476-3aa6-4c0f-9960-5219b8b2cc75",
   "metadata": {},
   "outputs": [
    {
     "name": "stdout",
     "output_type": "stream",
     "text": [
      "1. Top products by revenue: Product\n",
      "Keyboard      1.783906e+08\n",
      "Phone         1.676139e+08\n",
      "Headphones    1.426256e+08\n",
      "Name: Total Sale, dtype: float64\n",
      "2. State with highest revenue: Benue\n",
      "3. Channel comparison: Sales Channel\n",
      "Online       2.294837e+08\n",
      "Retail       1.956314e+08\n",
      "Wholesale    1.654142e+08\n",
      "Direct       1.523044e+08\n",
      "Name: Total Sale, dtype: float64\n",
      "4. Peak sales month: 2024-07\n"
     ]
    }
   ],
   "source": [
    "print(\"1. Top products by revenue:\", product_revenue.head(3))\n",
    "print(\"2. State with highest revenue:\", state_revenue.idxmax())\n",
    "print(\"3. Channel comparison:\", channel_revenue)\n",
    "print(\"4. Peak sales month:\", monthly_sales.idxmax())"
   ]
  },
  {
   "cell_type": "code",
   "execution_count": 36,
   "id": "51e725e0-1fef-4a71-8ffa-b9569ee64db4",
   "metadata": {},
   "outputs": [],
   "source": [
    "df.to_csv(\"cleaned_sales_data.csv\", index=False)"
   ]
  }
 ],
 "metadata": {
  "kernelspec": {
   "display_name": "Python [conda env:base] *",
   "language": "python",
   "name": "conda-base-py"
  },
  "language_info": {
   "codemirror_mode": {
    "name": "ipython",
    "version": 3
   },
   "file_extension": ".py",
   "mimetype": "text/x-python",
   "name": "python",
   "nbconvert_exporter": "python",
   "pygments_lexer": "ipython3",
   "version": "3.12.7"
  }
 },
 "nbformat": 4,
 "nbformat_minor": 5
}
